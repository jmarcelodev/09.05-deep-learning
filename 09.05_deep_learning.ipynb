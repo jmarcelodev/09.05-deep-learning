{
 "cells": [
  {
   "cell_type": "code",
   "execution_count": 20,
   "id": "de341d70",
   "metadata": {},
   "outputs": [],
   "source": [
    "#Importação dos bibl\n",
    "import pandas as pd\n",
    "import numpy as np\n",
    "from sklearn.model_selection import train_test_split\n",
    "from sklearn.preprocessing import StandardScaler\n",
    "from keras.models import Sequential\n",
    "from keras.layers import Dense"
   ]
  },
  {
   "cell_type": "code",
   "execution_count": 21,
   "id": "43954adf",
   "metadata": {},
   "outputs": [],
   "source": [
    "df1= pd.read_csv('train_test.csv')\n",
    "df2= pd.read_csv('valid_1.csv')"
   ]
  },
  {
   "cell_type": "code",
   "execution_count": 22,
   "id": "b801d330",
   "metadata": {},
   "outputs": [],
   "source": [
    "#Importar biblioteca de divisão de dados e escolher as variáveis que saem da análise\n",
    "from sklearn.model_selection import train_test_split\n",
    "X = df1.drop(['fid', 'lat', 'long', 'talhao', 'wkt_geom','Altitude', 'Produtividade', 'frutos_ver', 'Declividade', 'total_frut', 'Horas Sol' ], axis= 1)\n",
    "y= df1['Produtividade']\n",
    "X_train,X_test,y_train,y_test = train_test_split(X,y,test_size=0.3)"
   ]
  },
  {
   "cell_type": "code",
   "execution_count": 4,
   "id": "08f7cd39",
   "metadata": {},
   "outputs": [],
   "source": [
    "#Padronizar os dados de treinamento \n",
    "scaler = StandardScaler()\n",
    "X_train_scaled = scaler.fit_transform(X_train)\n",
    "X_test_scaled = scaler.transform(X_test)\n"
   ]
  },
  {
   "cell_type": "code",
   "execution_count": 5,
   "id": "4e42c5fa",
   "metadata": {},
   "outputs": [
    {
     "name": "stdout",
     "output_type": "stream",
     "text": [
      "Epoch 1/10\n",
      "127/127 [==============================] - 1s 2ms/step - loss: 825.5817 - mae: 23.1380 - val_loss: 193.9965 - val_mae: 10.7095\n",
      "Epoch 2/10\n",
      "127/127 [==============================] - 0s 1ms/step - loss: 144.7898 - mae: 8.8138 - val_loss: 114.0780 - val_mae: 8.2574\n",
      "Epoch 3/10\n",
      "127/127 [==============================] - 0s 1ms/step - loss: 110.8793 - mae: 7.8819 - val_loss: 95.9410 - val_mae: 7.5705\n",
      "Epoch 4/10\n",
      "127/127 [==============================] - 0s 1ms/step - loss: 96.9801 - mae: 7.3543 - val_loss: 90.2130 - val_mae: 7.3000\n",
      "Epoch 5/10\n",
      "127/127 [==============================] - 0s 2ms/step - loss: 88.4023 - mae: 7.0671 - val_loss: 85.7545 - val_mae: 7.1005\n",
      "Epoch 6/10\n",
      "127/127 [==============================] - 0s 2ms/step - loss: 83.2238 - mae: 6.8568 - val_loss: 83.6710 - val_mae: 6.9723\n",
      "Epoch 7/10\n",
      "127/127 [==============================] - 0s 2ms/step - loss: 79.2709 - mae: 6.7153 - val_loss: 83.7604 - val_mae: 6.9325\n",
      "Epoch 8/10\n",
      "127/127 [==============================] - 0s 2ms/step - loss: 76.5607 - mae: 6.6400 - val_loss: 79.4144 - val_mae: 6.8235\n",
      "Epoch 9/10\n",
      "127/127 [==============================] - 0s 2ms/step - loss: 74.1030 - mae: 6.5327 - val_loss: 77.5011 - val_mae: 6.6746\n",
      "Epoch 10/10\n",
      "127/127 [==============================] - 0s 1ms/step - loss: 72.2237 - mae: 6.4532 - val_loss: 76.6267 - val_mae: 6.6193\n"
     ]
    },
    {
     "data": {
      "text/plain": [
       "<keras.callbacks.History at 0x18aa54fedc0>"
      ]
     },
     "execution_count": 5,
     "metadata": {},
     "output_type": "execute_result"
    }
   ],
   "source": [
    "#Definições do modelo \n",
    "model = Sequential()\n",
    "model.add(Dense(64, input_dim=X_train.shape[1], activation='relu')) \n",
    "model.add(Dense(32, activation='relu')) \n",
    "model.add(Dense(1, activation='linear')) \n",
    "\n",
    "# Compilar o modelo\n",
    "model.compile(optimizer='adam', loss='mean_squared_error', metrics=['mae'])\n",
    "\n",
    "# Treinar o modelo\n",
    "model.fit(X_train_scaled, y_train, epochs=10, batch_size=32, validation_split=0.2)\n"
   ]
  },
  {
   "cell_type": "code",
   "execution_count": null,
   "id": "6ef7f6bc",
   "metadata": {},
   "outputs": [],
   "source": []
  },
  {
   "cell_type": "code",
   "execution_count": 16,
   "id": "d59c5dad",
   "metadata": {},
   "outputs": [],
   "source": [
    "#Padronização dos dados de validação\n",
    "df2_scald = scaler.transform(df2.drop(['fid', 'lat', 'long', 'talhao', 'wkt_geom','Altitude', 'Produtividade', 'frutos_ver', 'Declividade', 'total_frut', 'Horas Sol' ], axis= 1))"
   ]
  },
  {
   "cell_type": "code",
   "execution_count": 18,
   "id": "d01b0cdb",
   "metadata": {},
   "outputs": [
    {
     "name": "stdout",
     "output_type": "stream",
     "text": [
      "62/62 [==============================] - 0s 766us/step\n"
     ]
    }
   ],
   "source": [
    "#Predição dos dados de validação\n",
    "y_pred = model.predict(df2_scald)"
   ]
  },
  {
   "cell_type": "code",
   "execution_count": 23,
   "id": "95b5f9b8",
   "metadata": {},
   "outputs": [
    {
     "name": "stdout",
     "output_type": "stream",
     "text": [
      "Para o modelo deep learning: MAE = 9.234938902933179, RMSE = 0.31360173085330867, R² = 0.6877526751074361\n"
     ]
    }
   ],
   "source": [
    "#Metrica de erro para os dados de validação\n",
    "from sklearn import metrics\n",
    "from sklearn.metrics import r2_score\n",
    "mae =( metrics.mean_absolute_error(df2['Produtividade'], y_pred))\n",
    "rmse =( np.sqrt(metrics.mean_squared_log_error(df2['Produtividade'], y_pred)))\n",
    "r2= ( r2_score(df2['Produtividade'], y_pred))\n",
    "print(f'Para o modelo deep learning: MAE = {mae}, RMSE = {rmse}, R² = {r2}')"
   ]
  },
  {
   "cell_type": "code",
   "execution_count": null,
   "id": "bdecbc30",
   "metadata": {},
   "outputs": [],
   "source": []
  }
 ],
 "metadata": {
  "kernelspec": {
   "display_name": "Python 3",
   "language": "python",
   "name": "python3"
  },
  "language_info": {
   "codemirror_mode": {
    "name": "ipython",
    "version": 3
   },
   "file_extension": ".py",
   "mimetype": "text/x-python",
   "name": "python",
   "nbconvert_exporter": "python",
   "pygments_lexer": "ipython3",
   "version": "3.8.8"
  }
 },
 "nbformat": 4,
 "nbformat_minor": 5
}
